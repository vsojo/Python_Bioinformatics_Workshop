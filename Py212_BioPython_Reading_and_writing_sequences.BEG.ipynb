{
 "cells": [
  {
   "cell_type": "markdown",
   "metadata": {},
   "source": [
    "# Reading and writing sequences with BioPython\n",
    "(Víctor Sojo | vsojo@amnh.org)\n",
    "\n",
    "In the previous lesson we had our first experience interacting with NCBI through BioPython. We downloaded `4` records that seem to contain the DNA sequence for the gene encoding the 12S rRNA of the red panda.\n",
    "\n",
    "In this notebook we will continue our **BioPython** training by:\n",
    "1. Reading back in the records that we downloaded in the previous lesson.\n",
    "1. Extracting the `features` that contain the sequences of the 12S rRNA gene.\n",
    "1. Assembling the sequences of the four files into a common FASTA file, which we will use later in the alignment lesson.\n",
    "\n",
    "**References & recommended reading:**\n",
    "+ The [_BioPython tutorial_](http://biopython.org/DIST/docs/tutorial/Tutorial.html).\n",
    "+ Tiago Antao's [_Bioinformatics with Python Cookbook_](https://www.packtpub.com/product/bioinformatics-with-python-cookbook-second-edition/9781789344691)."
   ]
  },
  {
   "cell_type": "markdown",
   "metadata": {},
   "source": [
    "## Contents\n",
    "&emsp;[Importing required BioPython modules](#Importing-required-BioPython-modules)<br/>\n",
    "&emsp;[Re-explore the file with the list of GenBank files](#Re-explore-the-file-with-the-list-of-GenBank-files)<br/>\n",
    "&emsp;[Reading single-sequence files using BioPython's SeqIO.read\\(\\) ](#Reading-single-sequence-files-using-BioPython's-SeqIO.read\\(\\)-)<br/>\n",
    "&emsp;[Extracting features and their sequences in a BioPython record](#Extracting-features-and-their-sequences-in-a-BioPython-record)<br/>\n",
    "&emsp;[Creating new records and writing them to a file](#Creating-new-records-and-writing-them-to-a-file)<br/>\n",
    "&emsp;[Reading multiple independent files the proper way](#Reading-multiple-independent-files-the-proper-way)<br/>\n",
    "&emsp;[Reading a file with multiple sequences using SeqIO.parse\\(\\)](#Reading-a-file-with-multiple-sequences-using-SeqIO.parse\\(\\))<br/>\n",
    "&emsp;&emsp;[Should I use SeqIO.parse\\(\\) or SeqIO.read\\(\\) to load my sequence file?](#Should-I-use-SeqIO.parse\\(\\)-or-SeqIO.read\\(\\)-to-load-my-sequence-file?)<br/>"
   ]
  },
  {
   "cell_type": "markdown",
   "metadata": {},
   "source": [
    "Again, let's make sure that we're using the `bioinfo` environment that we created in the `Py201` notebook:"
   ]
  },
  {
   "cell_type": "code",
   "execution_count": null,
   "metadata": {},
   "outputs": [],
   "source": []
  },
  {
   "cell_type": "markdown",
   "metadata": {},
   "source": [
    "(If you're on Windows, remember that every line with `! some code` should be changed to `!wsl some code` and you should have an active [WSL installation](https://docs.microsoft.com/en-us/windows/wsl/install-win10))"
   ]
  },
  {
   "cell_type": "markdown",
   "metadata": {},
   "source": [
    "## Importing required BioPython modules\n",
    "Here we will need:\n",
    "\n",
    "Module      | Use\n",
    ":-----------|:-----------------------------------------\n",
    "**Bio.SeqIO**   | To handle parsing, reading and writing sequences\n",
    "**Bio.SeqRecord.SeqRecord** | To create new sequence records"
   ]
  },
  {
   "cell_type": "code",
   "execution_count": null,
   "metadata": {},
   "outputs": [],
   "source": []
  },
  {
   "cell_type": "markdown",
   "metadata": {},
   "source": [
    "## Re-explore the file with the list of GenBank files\n",
    "In the previous lesson, we used **Entrez** to download data from NCBI. We found `4` records, and stored each of them into a GenBank file. Cleverly, we also stored the names of the files that we created into a file of their own, so that we could automate our analyses. This file simply contains the location of names of the files. We will use that file here so that we can read the sequence records back in.\n",
    "\n",
    "First, let's just take a look at the file:"
   ]
  },
  {
   "cell_type": "code",
   "execution_count": null,
   "metadata": {},
   "outputs": [],
   "source": []
  },
  {
   "cell_type": "markdown",
   "metadata": {},
   "source": [
    "That looks good. We can use this list file to open each of the GenBank files."
   ]
  },
  {
   "cell_type": "markdown",
   "metadata": {},
   "source": [
    "There are 4 files, which makes sense since we had 4 gene IDs.\n",
    "\n",
    "Once again, let's take a look at the first few lines of one of these files:"
   ]
  },
  {
   "cell_type": "code",
   "execution_count": null,
   "metadata": {},
   "outputs": [],
   "source": []
  },
  {
   "cell_type": "markdown",
   "metadata": {},
   "source": [
    "---\n",
    "Go ahead and take a look at the full file in a text editor such as Notepad++ (Win) or Sublime/BBEdit (Mac); or you can just use the Jupyter browser itself."
   ]
  },
  {
   "cell_type": "markdown",
   "metadata": {},
   "source": [
    "## Reading single-sequence files using BioPython's `SeqIO.read()` \n",
    "Take a look at the second line of the fragment that we just printed above. You'll see that this particular file has the _complete genome_ of the mitochondrial chromosome of the red panda. We don't want the whole chromosome – just the 12S rRNA gene. BioPython makes it easy to extract it.\n",
    "\n",
    "Here is our plan of action for the next block of code:\n",
    "1. We will read in the file with the list of GenBank file names.\n",
    "1. We will use these file names to load the GenBank files one by one.\n",
    "1. For each of these files, we will turn their contents into a BioPython record using `Bio.SeqIO.read()`.\n",
    "1. We will then store each of these records into a list that we will call `seqrecs`, so that we can access them later.\n",
    "\n",
    "About that last step, we can do this here because it's only 4 records, but in typical bioinformatics work you should avoid lists of sequence records as much as possible (further details below)."
   ]
  },
  {
   "cell_type": "code",
   "execution_count": null,
   "metadata": {},
   "outputs": [],
   "source": []
  },
  {
   "cell_type": "markdown",
   "metadata": {},
   "source": [
    "We now have our four sequence records in the `seqrecs` list.\n",
    "\n",
    "⚠️ **Important** ⚠️<br/>\n",
    "It is typically a very bad idea to store records into a `list`, as we did here. This is because, with lists, all records will be loaded together onto memory, as opposed to one at a time. With thousands of records and gigabytes of data, this would not be viable. Instead, we should process the records one by one in their entirety if possible, and we do so [towards the end of this notebook](#Reading-multiple-independent-files-the-right-way). \n",
    "\n",
    "However, for the time being, we will keep going using the list. This will allow us to explore the steps separately from each other, for educational purposes. Since it's only 4 records, we will be fine. Then, at the end or this notebook, we will integrate it all and look at a **production-level alternative**."
   ]
  },
  {
   "cell_type": "markdown",
   "metadata": {},
   "source": [
    "## Extracting `features` and their sequences in a BioPython record\n",
    "As you can see from the `description` of each of the records that we printed above, a couple of those records contain sequences for the entire mitochondrial genome. We don't want the whole mitochondrial chromosome – just the 12S rRNA gene – so we need to extract that information from the GenBank record.\n",
    "\n",
    "I strongly recommend that you open the file `AM711897.1.gb` in a text editor and take a look at the whole text. In brief, the file contains only one sequence (at the end), but multiple \"features\", one for each significant portion of DNA in the chromosome (genes, tRNAs, rRNAs and so on). In our case, we're interested in the `12S rRNA` gene, so we can look for that.\n",
    "\n",
    "Before we do that with BioPython, let's use the advantages of Jupyter's access to bash and take a quick look with `grep`:"
   ]
  },
  {
   "cell_type": "code",
   "execution_count": null,
   "metadata": {},
   "outputs": [],
   "source": []
  },
  {
   "cell_type": "markdown",
   "metadata": {},
   "source": [
    "You'll see on the left that there are features of several types (`gene`, `rRNA`, `tRNA`). We are looking for a `gene` encoding the `12S rRNA`.\n",
    "\n",
    "You'll notice also that there's a `gene` encoding a `tRNA` for valine at positions `1035..1102`. Before that one, you'll see our `gene` of interest, which is located at `70..1034`. We can extract it programmatically using BioPython, through the `features` property for each of the 4 records. This will let us filter for only those features classified as a `gene` with `12S rRNA` in the name.\n",
    "\n",
    "As a first step to get familirised with the syntax, let's extract and print our desired features:"
   ]
  },
  {
   "cell_type": "code",
   "execution_count": null,
   "metadata": {},
   "outputs": [],
   "source": []
  },
  {
   "cell_type": "markdown",
   "metadata": {},
   "source": [
    "That was great. But here we just printed a bit of the information out. What we'd really like to do is save each of those sequences to a common FASTA file, so that we can compare them and check if they're the same (at least one of them won't be, since it's much shorter than the rest). Let's do that next."
   ]
  },
  {
   "cell_type": "markdown",
   "metadata": {},
   "source": [
    "## Creating new records and writing them to a file\n",
    "Let's modify our last bit of code slightly so that, instead of just printing out that we found our desired 12S rRNA gene, we actually create a new sequence record with just that relevant bit and put it out to a common FASTA file.\n",
    "\n",
    "(Note: We are calling this file `unaligned` because the sequences have no positional reference to one another at this point. We will align them in the next lesson)"
   ]
  },
  {
   "cell_type": "code",
   "execution_count": null,
   "metadata": {},
   "outputs": [],
   "source": []
  },
  {
   "cell_type": "markdown",
   "metadata": {},
   "source": [
    "Good! Let's take a look at the full file. I recommend that you open it outside (e.g. through the Jupyter file navigator), but we can also use the shell command `cat` to see its entire contents:"
   ]
  },
  {
   "cell_type": "code",
   "execution_count": null,
   "metadata": {},
   "outputs": [],
   "source": []
  },
  {
   "cell_type": "markdown",
   "metadata": {},
   "source": [
    "⚠️This file was short, so it was ok to print it all to screen with `cat`. That's often not the case in bioinformatics and you should instead use `grep` or `head`."
   ]
  },
  {
   "cell_type": "markdown",
   "metadata": {},
   "source": [
    "---\n",
    "## Reading multiple independent files the proper way\n",
    "Above we loaded all the records into a list. This would have been a terrible idea had we been working with thousands of records (not uncommon at all in bioinformatics).\n",
    "\n",
    "Since in this case we didn't need to process the records together (they are all independent from each other), we could have just done everything in the very first `for` loop. That way, we would release the memory at the end of each iteration, loading only one record into memory at any given time. \n",
    "\n",
    "In this section we explore how that would look."
   ]
  },
  {
   "cell_type": "markdown",
   "metadata": {},
   "source": [
    "#### First, we define the names of the input and output files"
   ]
  },
  {
   "cell_type": "code",
   "execution_count": null,
   "metadata": {},
   "outputs": [],
   "source": []
  },
  {
   "cell_type": "markdown",
   "metadata": {},
   "source": [
    "#### Then we run the entire process above, but in a single `for` loop\n",
    "(i.e., we clear the output file, we open the file with the list of input files, we then open each input file one at a time, extract any `12S rRNA` records, and export those to the multi-fasta output file)."
   ]
  },
  {
   "cell_type": "code",
   "execution_count": null,
   "metadata": {},
   "outputs": [],
   "source": []
  },
  {
   "cell_type": "markdown",
   "metadata": {},
   "source": [
    "⚠️ Note that in the second `with` we use `g` as the name of the file handle, as opposed the the more traditional `f`. This is because we're still inside the upper `with`, in which we had already used `f` as the file handle."
   ]
  },
  {
   "cell_type": "markdown",
   "metadata": {},
   "source": [
    "---\n",
    "## Reading a file with multiple sequences using `SeqIO.parse()`\n",
    "We don't need to, but just so we know how to do it, let's read the file back in, using BioPython.\n",
    "\n",
    "⚠️ Above, when we read the GenBank files that had a _single sequence_, we used **`SeqIO.read()`**. Here, since we're reading a file with _multiple sequences_, we instead use **`SeqIO.parse()`**."
   ]
  },
  {
   "cell_type": "code",
   "execution_count": null,
   "metadata": {},
   "outputs": [],
   "source": []
  },
  {
   "cell_type": "markdown",
   "metadata": {},
   "source": [
    "So, `SeqIO.parse()` gives us an iterator, in which each item corresponds to one of the independent sequences in the file, in this case our 4 sequences."
   ]
  },
  {
   "cell_type": "code",
   "execution_count": null,
   "metadata": {},
   "outputs": [],
   "source": []
  },
  {
   "cell_type": "markdown",
   "metadata": {},
   "source": [
    "You'll see that BioPython nicely summarises the sequence and prints some useful information. This is the information that we gave when we created the FASTA file above.\n",
    "\n",
    "Note: If you try to rerun the last `for` loop, you'll get nothing, because iterators run only once, as you surely know by now 😉. You'd have to go one further cell up to regenerate the iterator."
   ]
  },
  {
   "cell_type": "markdown",
   "metadata": {},
   "source": [
    "### Should I use `SeqIO.parse()` or `SeqIO.read()` to load my sequence file?\n",
    "+ Use **`SeqIO.read()`** to load files that contain **only one sequence** (e.g., a single `>` in the case of a FASTA file). This returns a single record.\n",
    "+ Use **`SeqIO.parse()`** to load files with **multiple sequences** (multiple `>` headers in the case of a FASTA file). This returns an iterator of records.\n",
    "\n",
    "Note that a GenBank file may have multiple `feature`s, but it has only one _sequence_, so you should typically read it with `read()`, as we did above.\n",
    "\n",
    "Note also that `.parse()` returns an `iterator`, in which each item is a record that corresponds to each of the sequences in the original file.<br/>\n",
    "Conversely, `.read()` returns a BioPython sequence record directly, so you should only use it if you have a single sequence in the file, or you only care for the first one."
   ]
  },
  {
   "cell_type": "markdown",
   "metadata": {},
   "source": [
    "In the next lesson, we will work with sequence alignments. As a starter, we will reload the FASTA file that we made here to contain the 4 red panda 12S rRNA sequences. We will then align it, and take a look at the alignment."
   ]
  }
 ],
 "metadata": {
  "kernelspec": {
   "display_name": "Python 3",
   "language": "python",
   "name": "python3"
  },
  "language_info": {
   "codemirror_mode": {
    "name": "ipython",
    "version": 3
   },
   "file_extension": ".py",
   "mimetype": "text/x-python",
   "name": "python",
   "nbconvert_exporter": "python",
   "pygments_lexer": "ipython3",
   "version": "3.9.4"
  }
 },
 "nbformat": 4,
 "nbformat_minor": 4
}
