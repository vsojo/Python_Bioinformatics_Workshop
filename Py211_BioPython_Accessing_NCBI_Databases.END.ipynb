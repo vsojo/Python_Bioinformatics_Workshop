{
 "cells": [
  {
   "cell_type": "markdown",
   "metadata": {},
   "source": [
    "# Accessing NCBI Databases with BioPython\n",
    "(Víctor Sojo | vsojo@amnh.org)\n",
    "\n",
    "Here we will be introducing **BioPython** and using it to interface with NCBI databases.\n",
    "\n",
    "**References:**\n",
    "+ The [_BioPython tutorial_](http://biopython.org/DIST/docs/tutorial/Tutorial.html).\n",
    "+ Tiago Antao's book [_Bioinformatics with Python Cookbook_](https://www.packtpub.com/product/bioinformatics-with-python-cookbook-second-edition/9781789344691), which I highly recommend. You may be able to access it for free from your library (e.g., Columbia University has it in digital)."
   ]
  },
  {
   "cell_type": "markdown",
   "metadata": {},
   "source": [
    "## Contents\n",
    "&emsp;[Installing BioPython \\(if you don't have it\\)](#Installing-BioPython-\\(if-you-don't-have-it\\))<br/>\n",
    "&emsp;[Importing necessary BioPython modules](#Importing-necessary-BioPython-modules)<br/>\n",
    "&emsp;[Accessing NCBI via Entrez](#Accessing-NCBI-via-Entrez)<br/>\n",
    "&emsp;&emsp;[Getting the list of available databases at NCBI](#Getting-the-list-of-available-databases-at-NCBI)<br/>\n",
    "&emsp;[Download nucleotide records for a specific gene, by name, in a specific species](#Download-nucleotide-records-for-a-specific-gene,-by-name,-in-a-specific-species)<br/>\n",
    "&emsp;[Downloading gene sequences given a list of IDs](#Downloading-gene-sequences-given-a-list-of-IDs)<br/>\n",
    "&emsp;&emsp;[⚠️ Iterators are emptied after completing a single run ⚠️](#⚠️-Iterators-are-emptied-after-completing-a-single-run-⚠️)<br/>\n",
    "&emsp;&emsp;[To keep data from an iterator permanently, convert it to a list \\(inefficient\\)](#To-keep-data-from-an-iterator-permanently,-convert-it-to-a-list-\\(inefficient\\))<br/>\n",
    "&emsp;[Saving sequence records to files with Bio.SeqIO.write\\(\\)](#Saving-sequence-records-to-files-with-Bio.SeqIO.write\\(\\))<br/>\n",
    "&emsp;[Accessing the NCBI Taxonomy database](#Accessing-the-NCBI-Taxonomy-database)<br/>\n",
    "&emsp;&emsp;[Searching broadly using Entrez.esearch\\(\\)](#Searching-broadly-using-Entrez.esearch\\(\\))<br/>\n",
    "&emsp;&emsp;[Fetching specific taxonomic records using IDs in Entrez.efetch\\(\\)](#Fetching-specific-taxonomic-records-using-IDs-in-Entrez.efetch\\(\\))<br/>"
   ]
  },
  {
   "cell_type": "markdown",
   "metadata": {},
   "source": [
    "⚠️ I'm assuming you followed the Py201 notebook, in which we installed `conda`, set up an environment called `bioinfo`, and considered differences for Windows users ⚠️\n",
    "\n",
    "First, let's make sure that you're using the appropriate environment:"
   ]
  },
  {
   "cell_type": "code",
   "execution_count": 1,
   "metadata": {},
   "outputs": [
    {
     "name": "stdout",
     "output_type": "stream",
     "text": [
      "bioinfo\r\n"
     ]
    }
   ],
   "source": [
    "! echo $CONDA_DEFAULT_ENV"
   ]
  },
  {
   "cell_type": "markdown",
   "metadata": {},
   "source": [
    "    Looking good for me. If you don't see `bioinfo` but instead `base` or `root`, you should probably close this notebook, stop jupyter by hitting **Quit** at the top-right of the main Jupyter browser webpage (or by issuing `jupyter notebook stop` on a new terminal tab or hitting Ctrl+C twice in the Terminal tab running Jupyter), then load your `conda` environment from the terminal/Anaconda prompt:\n",
    "```bash\n",
    "conda activate bioinfo\n",
    "```\n",
    "and restart Jupyter:\n",
    "```bash\n",
    "jupyter notebook\n",
    "```\n",
    "\n",
    "⚠️ **Windows users:** ⚠️ Every time I write `! something` you should instead write **`!wsl something`**. For this to work, you need to have the Windows Subsystem for Linux (WSL) activated. You need to do that otherwise a significant part of the code in this workshop won't work for you. [Learn about the WSL here](https://docs.microsoft.com/en-us/windows/wsl/install-win10)."
   ]
  },
  {
   "cell_type": "markdown",
   "metadata": {},
   "source": [
    "## Installing BioPython (if you don't have it)\n",
    "You should have installed BioPython previously. If you haven't, you can do it inside this Jupyter Notebook itself:"
   ]
  },
  {
   "cell_type": "code",
   "execution_count": 2,
   "metadata": {},
   "outputs": [
    {
     "name": "stdout",
     "output_type": "stream",
     "text": [
      "Collecting package metadata (current_repodata.json): done\n",
      "Solving environment: done\n",
      "\n",
      "# All requested packages already installed.\n",
      "\n"
     ]
    }
   ],
   "source": [
    "! conda install biopython -y"
   ]
  },
  {
   "cell_type": "markdown",
   "metadata": {},
   "source": [
    "In my case, I already have `biopython`, so `conda` just searches for updates and then lets me know that I do have the requested packages installed. It will probably take a couple of minutes if you don't have it installed. "
   ]
  },
  {
   "cell_type": "markdown",
   "metadata": {},
   "source": [
    "## Importing necessary BioPython modules"
   ]
  },
  {
   "cell_type": "code",
   "execution_count": 3,
   "metadata": {},
   "outputs": [],
   "source": [
    "from Bio import Entrez, SeqIO"
   ]
  },
  {
   "cell_type": "markdown",
   "metadata": {},
   "source": [
    "BioPython is enormous, and we don't need all of it here. For this lesson, we only need the following modules:\n",
    "\n",
    "Module      | Use\n",
    ":-----------|:-----------------------------------------\n",
    "**Entrez**  | Programming interface to retrieve data from NCBI\n",
    "**SeqIO**   | To read and write bio-sequences"
   ]
  },
  {
   "cell_type": "markdown",
   "metadata": {},
   "source": [
    "## Accessing NCBI via Entrez\n",
    "**Entrez** is NCBI's communication portal, so we will be using it here to download information from there.\n",
    "\n",
    "⚠️ **Important** ⚠️ Always inform NCBI of your email address!"
   ]
  },
  {
   "cell_type": "code",
   "execution_count": 4,
   "metadata": {},
   "outputs": [],
   "source": [
    "Entrez.email = 'vsojo@amnh.org'"
   ]
  },
  {
   "cell_type": "markdown",
   "metadata": {},
   "source": [
    "### Getting the list of available databases at NCBI\n",
    "NCBI hosts a gigantic repository with multiple databases. Let's start by downloading the list of those databases:"
   ]
  },
  {
   "cell_type": "code",
   "execution_count": 5,
   "metadata": {},
   "outputs": [
    {
     "name": "stdout",
     "output_type": "stream",
     "text": [
      "{'DbList': ['pubmed', 'protein', 'nuccore', 'ipg', 'nucleotide', 'structure', 'genome', 'annotinfo', 'assembly', 'bioproject', 'biosample', 'blastdbinfo', 'books', 'cdd', 'clinvar', 'gap', 'gapplus', 'grasp', 'dbvar', 'gene', 'gds', 'geoprofiles', 'homologene', 'medgen', 'mesh', 'ncbisearch', 'nlmcatalog', 'omim', 'orgtrack', 'pmc', 'popset', 'proteinclusters', 'pcassay', 'protfam', 'biosystems', 'pccompound', 'pcsubstance', 'seqannot', 'snp', 'sra', 'taxonomy', 'biocollections', 'gtr']}\n"
     ]
    }
   ],
   "source": [
    "info_handle = Entrez.einfo() # Use Entrez to get the information of NCBI databases into a result handle\n",
    "rec = Entrez.read(info_handle) # Read that handle into an actual BioPython record\n",
    "print(rec) # Print the record"
   ]
  },
  {
   "cell_type": "markdown",
   "metadata": {},
   "source": [
    "You will probably recognise some of those names from your previous work or studies (e.g., `pubmed`, `nucleotide`, `protein`, `taxonomy`), but most of the others are probably unfamiliar.\n",
    "\n",
    "Let's look for a gene in the `nucleotide` database next."
   ]
  },
  {
   "cell_type": "markdown",
   "metadata": {},
   "source": [
    "## Download `nucleotide` records for a specific gene, by name, in a specific species\n",
    "We will download the `nucleotide` record _**references**_ that exactly match the `[Gene Name]` `\"12S rRNA\"` (this is the RNA of the small-subunit of the mitochondrial ribosome). We will do so specifying the red panda (_Ailurus fulgens_) as the `[Organism]` of interest here... because red pandas are great."
   ]
  },
  {
   "cell_type": "code",
   "execution_count": 6,
   "metadata": {},
   "outputs": [],
   "source": [
    "# Perform a web search on the NCBI nucleotide database, for a gene in an organism:\n",
    "ref_handle = Entrez.esearch(db='nucleotide', term='\"12S rRNA\"[Gene Name] AND \"Ailurus fulgens\"[Organism]')"
   ]
  },
  {
   "cell_type": "markdown",
   "metadata": {},
   "source": [
    "Let's take a look at that search result stored in the `handle` variable:"
   ]
  },
  {
   "cell_type": "code",
   "execution_count": 7,
   "metadata": {},
   "outputs": [
    {
     "name": "stdout",
     "output_type": "stream",
     "text": [
      "<http.client.HTTPResponse object at 0x10654bbb0>\n"
     ]
    }
   ],
   "source": [
    "print(ref_handle)"
   ]
  },
  {
   "cell_type": "markdown",
   "metadata": {},
   "source": [
    "... well, that's not particularly helpful. This `ref_handle` variable holds the raw result of the communication to the NCBI database, including any actual results returned. To make use of these results (if any), we need to \"parse\" the handle into an actual record – as we did above when we got the list of databases. Once again we use the `.read()` method for this:"
   ]
  },
  {
   "cell_type": "code",
   "execution_count": 8,
   "metadata": {},
   "outputs": [],
   "source": [
    "# Read the raw web-search results into a usable BioPython record variable\n",
    "ref_recs = Entrez.read(ref_handle)"
   ]
  },
  {
   "cell_type": "markdown",
   "metadata": {},
   "source": [
    "Let's take a proper look at the results variable:"
   ]
  },
  {
   "cell_type": "code",
   "execution_count": 9,
   "metadata": {},
   "outputs": [
    {
     "name": "stdout",
     "output_type": "stream",
     "text": [
      "{'Count': '4', 'RetMax': '4', 'RetStart': '0', 'IdList': ['195934696', '155368555', '1871550', '417984'], 'TranslationSet': [{'From': '\"Ailurus fulgens\"[Organism]', 'To': '\"Ailurus fulgens\"[Organism]'}], 'TranslationStack': [{'Term': '\"12S rRNA\"[Gene Name]', 'Field': 'Gene Name', 'Count': '7977', 'Explode': 'N'}, {'Term': '\"Ailurus fulgens\"[Organism]', 'Field': 'Organism', 'Count': '425', 'Explode': 'Y'}, 'AND'], 'QueryTranslation': '\"12S rRNA\"[Gene Name] AND \"Ailurus fulgens\"[Organism]'}\n"
     ]
    }
   ],
   "source": [
    "print(ref_recs)"
   ]
  },
  {
   "cell_type": "markdown",
   "metadata": {},
   "source": [
    "The `ref_recs` variable seems to be a `dict`. I can never make sense of dictionaries when they are printed like this. Let's use the `dict.items()` method and the mighty f-strings to print it all more legibly:"
   ]
  },
  {
   "cell_type": "code",
   "execution_count": 10,
   "metadata": {},
   "outputs": [
    {
     "name": "stdout",
     "output_type": "stream",
     "text": [
      "-Count               : 4\n",
      "-RetMax              : 4\n",
      "-RetStart            : 0\n",
      "-IdList              : ['195934696', '155368555', '1871550', '417984']\n",
      "-TranslationSet      : [{'From': '\"Ailurus fulgens\"[Organism]', 'To': '\"Ailurus fulgens\"[Organism]'}]\n",
      "-TranslationStack    : [{'Term': '\"12S rRNA\"[Gene Name]', 'Field': 'Gene Name', 'Count': '7977', 'Explode': 'N'}, {'Term': '\"Ailurus fulgens\"[Organism]', 'Field': 'Organism', 'Count': '425', 'Explode': 'Y'}, 'AND']\n",
      "-QueryTranslation    : \"12S rRNA\"[Gene Name] AND \"Ailurus fulgens\"[Organism]\n"
     ]
    }
   ],
   "source": [
    "for key, val in ref_recs.items():\n",
    "  print(f\"-{key:20s}: {val}\") # the 20s means \"it's a string, and I want it to be 20 characters long\""
   ]
  },
  {
   "cell_type": "markdown",
   "metadata": {},
   "source": [
    "OK, that's much clearer. This `dict` contains the `Count` of records downloaded and the list of gene IDs, `IdList` , amongst other information.\n",
    "\n",
    "An interesting one is `RetMax`, which here is the same as `Count` (`4`). The standard search is limited to 20 results by default. In our case, we only found 4 anyway, and this is why `RetMax` is `4`. But if you found and want to retrieve more than 20 results, you can specify e.g. `RetMax=150` as an additional parameter to `Entrez.esearch()` to get `150` records. To retrieve _all_ records, you could do `RetMax=recs['Count']`, which will get everything. However, be careful with that, since you may end up downloading a lot of data further down the line. At this point we're only downloading record IDs, so it's fine to download any number, but in the following section we will download actual nucleotide records (which can be very heavy).\n",
    "\n",
    "In any case, we can use this dictionary to provide some useful output for the users (ourselves), for example:"
   ]
  },
  {
   "cell_type": "code",
   "execution_count": 11,
   "metadata": {},
   "outputs": [
    {
     "name": "stdout",
     "output_type": "stream",
     "text": [
      "There are 4 nucleotide records matching the search pattern on NCBI. 4 of these records were retrieved.\n",
      "Here are the record Ids retrieved:\n",
      "195934696\n",
      "155368555\n",
      "1871550\n",
      "417984\n"
     ]
    }
   ],
   "source": [
    "# Print some information about how many records were found\n",
    "print(f\"There are {ref_recs['Count']} nucleotide records matching the search pattern on NCBI. {len(ref_recs['IdList'])} of these records were retrieved.\")\n",
    "\n",
    "print(\"Here are the record Ids retrieved:\")\n",
    "for rec_id in ref_recs['IdList']:\n",
    "  print(rec_id)"
   ]
  },
  {
   "cell_type": "markdown",
   "metadata": {},
   "source": [
    "Nice. This is useful information, but we only have the record IDs, not the actual gene sequences and info. Let's get that next."
   ]
  },
  {
   "cell_type": "markdown",
   "metadata": {},
   "source": [
    "## Downloading gene sequences given a list of IDs\n",
    "So far, we have only downloaded the record _references_, not the gene records themselves. But we have the gene IDs, so we can go ahead and download the full gene records using those IDs.\n",
    "\n",
    "We only have 4 results here, so this should be a trivial download. However, if you have a lot of results (because you changed `RetMax` above), you'll need to be careful about what you download and how. You may need to split in batches of a hundred or so.\n",
    "\n",
    "Whatever you do, though, **don't download the records one by one** (e.g. with a `for` loop); it's inefficient and very bad Internet citizenship. Also, NCBI doesn't like it and may block your IP address (a good reason to give them your email address, just in case they want to talk to you to check you're not a bot).\n",
    "\n",
    "We have just 4, so let's give the full list to `Entrez`:"
   ]
  },
  {
   "cell_type": "code",
   "execution_count": 12,
   "metadata": {},
   "outputs": [],
   "source": [
    "gene_handle = Entrez.efetch(db='nucleotide', id=ref_recs['IdList'], rettype='gb')"
   ]
  },
  {
   "cell_type": "markdown",
   "metadata": {},
   "source": [
    "Note that in the previous section we used `Entrez.esearch()` because we weren't sure exactly what we wanted. Here we're using `Entrez.efetch()` instead, because we know exactly which records we want.\n",
    "\n",
    "Also, we specified the `gb` (GenBank) format, which has plenty of information. We could have used `fasta` instead, but `gb` is very good for exploring."
   ]
  },
  {
   "cell_type": "markdown",
   "metadata": {},
   "source": [
    "Let's parse that handle and take a look at the records we retrieved:"
   ]
  },
  {
   "cell_type": "code",
   "execution_count": 13,
   "metadata": {},
   "outputs": [
    {
     "name": "stdout",
     "output_type": "stream",
     "text": [
      "<Bio.SeqIO.InsdcIO.GenBankIterator object at 0x19b9dc100>\n"
     ]
    }
   ],
   "source": [
    "gene_recs = SeqIO.parse(gene_handle, 'gb')\n",
    "print(gene_recs)"
   ]
  },
  {
   "cell_type": "markdown",
   "metadata": {},
   "source": [
    "This also doesn't look very helpful, but in this case it actually is. As you can see, it's an `iterator` (read [here](https://www.w3schools.com/python/python_iterators.asp) if you want to know more), so we can go over it with a `for` loop:"
   ]
  },
  {
   "cell_type": "code",
   "execution_count": 14,
   "metadata": {},
   "outputs": [
    {
     "name": "stdout",
     "output_type": "stream",
     "text": [
      "\n",
      "\n",
      "# # # RECORD 0 # # #\n",
      "ID: NC_011124.1\n",
      "Name: NC_011124\n",
      "Description: Ailurus fulgens mitochondrion, complete genome\n",
      "Database cross-references: Project:30903, BioProject:PRJNA30903\n",
      "Number of features: 77\n",
      "/molecule_type=DNA\n",
      "/topology=circular\n",
      "/data_file_division=MAM\n",
      "/date=14-APR-2009\n",
      "/accessions=['NC_011124']\n",
      "/sequence_version=1\n",
      "/keywords=['RefSeq']\n",
      "/source=mitochondrion Ailurus fulgens (lesser panda)\n",
      "/organism=Ailurus fulgens\n",
      "/taxonomy=['Eukaryota', 'Metazoa', 'Chordata', 'Craniata', 'Vertebrata', 'Euteleostomi', 'Mammalia', 'Eutheria', 'Laurasiatheria', 'Carnivora', 'Caniformia', 'Ailuridae', 'Ailurus']\n",
      "/references=[Reference(title='Mitogenomic analyses of caniform relationships', ...), Reference(title='Direct Submission', ...), Reference(title='Direct Submission', ...)]\n",
      "/comment=REVIEWED REFSEQ: This record has been curated by NCBI staff. The\n",
      "reference sequence was derived from AM711897.\n",
      "COMPLETENESS: full length.\n",
      "Seq('GTTAATGTAGCTTAATAAATAAAGCAAGGCACTGAAAATGCCTAGATGAGTTAC...TCT')\n",
      "\n",
      "\n",
      "# # # RECORD 1 # # #\n",
      "ID: AM711897.1\n",
      "Name: AM711897\n",
      "Description: Ailurus fulgens complete mitochondrial genome\n",
      "Number of features: 77\n",
      "/molecule_type=DNA\n",
      "/topology=circular\n",
      "/data_file_division=MAM\n",
      "/date=26-JUL-2016\n",
      "/accessions=['AM711897']\n",
      "/sequence_version=1\n",
      "/keywords=['12S ribosomal RNA', '12S rRNA gene', '16S ribosomal RNA', '16S rRNA gene', 'ATPase subunit 6', 'ATPase subunit 8', 'ATPase6 gene', 'ATPase8 gene', 'COI gene', 'COII gene', 'COIII gene', 'cytb gene', 'cytochrome b', 'cytochrome oxidase subunit I', 'cytochrome oxidase subunit II', 'cytochrome oxidase subunit III', 'NADH dehydrogenase subunit 1', 'NADH dehydrogenase subunit 2', 'NADH dehydrogenase subunit 3', 'NADH dehydrogenase subunit 4', 'NADH dehydrogenase subunit 4L', 'NADH dehydrogenase subunit 5', 'NADH dehydrogenase subunit 6', 'NADH1 gene', 'NADH2 gene', 'NADH3 gene', 'NADH4 gene', 'NADH4L gene', 'NADH5 gene', 'NADH6 gene', 'transfer RNA-Ala', 'transfer RNA-Arg', 'transfer RNA-Asn', 'transfer RNA-Asp', 'transfer RNA-Cys', 'transfer RNA-Gln', 'transfer RNA-Glu', 'transfer RNA-Gly', 'transfer RNA-His', 'transfer RNA-Ile', 'transfer RNA-Leu (CUN)', 'transfer RNA-Leu (UUR)', 'transfer RNA-Lys', 'transfer RNA-Met', 'transfer RNA-Phe', 'transfer RNA-Pro', 'transfer RNA-Ser (AGY)', 'transfer RNA-Ser (UCN)', 'transfer RNA-Thr', 'transfer RNA-Trp', 'transfer RNA-Tyr', 'transfer RNA-Val', 'tRNA-Ala gene', 'tRNA-Arg gene', 'tRNA-Asn gene', 'tRNA-Asp gene', 'tRNA-Cys gene', 'tRNA-Gln gene', 'tRNA-Glu gene', 'tRNA-Gly gene', 'tRNA-His gene', 'tRNA-Ile gene', 'tRNA-Leu (CUN) gene', 'tRNA-Leu (UUR) gene', 'tRNA-Lys gene', 'tRNA-Met gene', 'tRNA-Phe gene', 'tRNA-Pro gene', 'tRNA-Ser (AGY) gene', 'tRNA-Ser (UCN) gene', 'tRNA-Thr gene', 'tRNA-Trp gene', 'tRNA-Tyr gene', 'tRNA-Val gene']\n",
      "/source=mitochondrion Ailurus fulgens (lesser panda)\n",
      "/organism=Ailurus fulgens\n",
      "/taxonomy=['Eukaryota', 'Metazoa', 'Chordata', 'Craniata', 'Vertebrata', 'Euteleostomi', 'Mammalia', 'Eutheria', 'Laurasiatheria', 'Carnivora', 'Caniformia', 'Ailuridae', 'Ailurus']\n",
      "/references=[Reference(title='Mitogenomic analyses of caniform relationships', ...), Reference(title='Direct Submission', ...)]\n",
      "Seq('GTTAATGTAGCTTAATAAATAAAGCAAGGCACTGAAAATGCCTAGATGAGTTAC...TCT')\n",
      "\n",
      "\n",
      "# # # RECORD 2 # # #\n",
      "ID: Y08511.1\n",
      "Name: Y08511\n",
      "Description: A.fulgens mitochondrial 12S rRNA gene\n",
      "Number of features: 3\n",
      "/molecule_type=DNA\n",
      "/topology=linear\n",
      "/data_file_division=MAM\n",
      "/date=05-MAR-1997\n",
      "/accessions=['Y08511']\n",
      "/sequence_version=1\n",
      "/keywords=['12S ribosomal RNA', '12S rRNA gene']\n",
      "/source=mitochondrion Ailurus fulgens (lesser panda)\n",
      "/organism=Ailurus fulgens\n",
      "/taxonomy=['Eukaryota', 'Metazoa', 'Chordata', 'Craniata', 'Vertebrata', 'Euteleostomi', 'Mammalia', 'Eutheria', 'Laurasiatheria', 'Carnivora', 'Caniformia', 'Ailuridae', 'Ailurus']\n",
      "/references=[Reference(title='Phylogenetic relationships within caniform carnivores based on analyses of the mitochondrial 12S rRNA gene', ...), Reference(title='Direct Submission', ...)]\n",
      "Seq('CAAAGGTTTGGTCCTAGCCTTCCCGTTAGTTCTTAATAAAATTACACATGCAAG...AAC')\n",
      "\n",
      "\n",
      "# # # RECORD 3 # # #\n",
      "ID: L21885.1\n",
      "Name: AISMTRG12S\n",
      "Description: Ailurus fulgens mitochondrial 12S ribosomal RNA (12S rRNA) gene fragment\n",
      "Number of features: 3\n",
      "/molecule_type=DNA\n",
      "/topology=linear\n",
      "/data_file_division=MAM\n",
      "/date=18-NOV-1993\n",
      "/accessions=['L21885']\n",
      "/sequence_version=1\n",
      "/keywords=['12S ribosomal RNA']\n",
      "/source=mitochondrion Ailurus fulgens (lesser panda)\n",
      "/organism=Ailurus fulgens\n",
      "/taxonomy=['Eukaryota', 'Metazoa', 'Chordata', 'Craniata', 'Vertebrata', 'Euteleostomi', 'Mammalia', 'Eutheria', 'Laurasiatheria', 'Carnivora', 'Caniformia', 'Ailuridae', 'Ailurus']\n",
      "/references=[Reference(title='Mitochondrial DNA sequence evolution in the Arctoidea', ...)]\n",
      "/comment=Original source text: Mitochondrion Ailurus fulgens (organelle\n",
      "Mitochondrion Ailurus fulgens) DNA.\n",
      "Seq('AAATAGTTTAGTATAACAAAACTATTCGCCAGAGAACTACTAGCAATAGCCTAA...GAG')\n"
     ]
    }
   ],
   "source": [
    "for i, rec in enumerate(gene_recs):\n",
    "  print(f\"\\n\\n# # # RECORD {i} # # #\")\n",
    "  print(rec)"
   ]
  },
  {
   "cell_type": "markdown",
   "metadata": {},
   "source": [
    "---\n",
    "Take a look at those results to make sure they make sense. Easily done because it's only `4`, but if they were thousands, you may need to parse through the names in some automated way (e.g. looking for desired terms such as `\"12S\"` and `\"ribosomal\"` in the `Description` and discarding any records that don't contain them)."
   ]
  },
  {
   "cell_type": "markdown",
   "metadata": {},
   "source": [
    "### ⚠️ Iterators are emptied after completing a single run ⚠️\n",
    "Let's try to run that last `for` loop again:"
   ]
  },
  {
   "cell_type": "code",
   "execution_count": 15,
   "metadata": {},
   "outputs": [],
   "source": [
    "for i, rec in enumerate(gene_recs):\n",
    "  print(f\"\\n\\n# # # RECORD {i} # # #\")\n",
    "  print(rec)"
   ]
  },
  {
   "cell_type": "markdown",
   "metadata": {},
   "source": [
    "This time we get no output. This is because we had an `iterator`, which goes over each of its items only once, getting rid of the item as it produces it. This is **extremely efficient**, which is why Python insists that you use them whenever you can. However, it has limitations too, chiefly that you have no way of recovering the data once you've read it. In our case, this means we're forced to go back to NCBI again:"
   ]
  },
  {
   "cell_type": "code",
   "execution_count": 16,
   "metadata": {},
   "outputs": [
    {
     "name": "stdout",
     "output_type": "stream",
     "text": [
      "<Bio.SeqIO.InsdcIO.GenBankIterator object at 0x19b9dca90>\n"
     ]
    }
   ],
   "source": [
    "gene_handle = Entrez.efetch(db='nucleotide', id=ref_recs['IdList'], rettype='gb')\n",
    "gene_recs = SeqIO.parse(gene_handle, 'gb')\n",
    "print(gene_recs)"
   ]
  },
  {
   "cell_type": "markdown",
   "metadata": {},
   "source": [
    "Good, we have our fresh iterator again. But every time we read something from it, each item we read is lost forever, until the iterator is empty. So, what do we do if we don't want to lose that data just by looking at it? One solution – not necessarily the best solution – is to convert the `iterator` to a `list`. "
   ]
  },
  {
   "cell_type": "markdown",
   "metadata": {},
   "source": [
    "### To permanently keep the data from an iterator, you _could_ convert it to a `list` (inefficient)\n",
    "If we don't want to keep the data in our iterator more permanently in memory, we need to convert it to a `list`, which is an `iterable`. The slight difference in name means you can go over lists as many times as you want."
   ]
  },
  {
   "cell_type": "code",
   "execution_count": 17,
   "metadata": {},
   "outputs": [],
   "source": [
    "gene_recs = list(gene_recs)"
   ]
  },
  {
   "cell_type": "markdown",
   "metadata": {},
   "source": [
    "Now we can run the following `for` loop as many times as we wish:"
   ]
  },
  {
   "cell_type": "code",
   "execution_count": 18,
   "metadata": {},
   "outputs": [
    {
     "name": "stdout",
     "output_type": "stream",
     "text": [
      "\n",
      "\n",
      "# # # RECORD 0 # # #\n",
      "ID: NC_011124.1\n",
      "Name: NC_011124\n",
      "Description: Ailurus fulgens mitochondrion, complete genome\n",
      "Database cross-references: Project:30903, BioProject:PRJNA30903\n",
      "Number of features: 77\n",
      "/molecule_type=DNA\n",
      "/topology=circular\n",
      "/data_file_division=MAM\n",
      "/date=14-APR-2009\n",
      "/accessions=['NC_011124']\n",
      "/sequence_version=1\n",
      "/keywords=['RefSeq']\n",
      "/source=mitochondrion Ailurus fulgens (lesser panda)\n",
      "/organism=Ailurus fulgens\n",
      "/taxonomy=['Eukaryota', 'Metazoa', 'Chordata', 'Craniata', 'Vertebrata', 'Euteleostomi', 'Mammalia', 'Eutheria', 'Laurasiatheria', 'Carnivora', 'Caniformia', 'Ailuridae', 'Ailurus']\n",
      "/references=[Reference(title='Mitogenomic analyses of caniform relationships', ...), Reference(title='Direct Submission', ...), Reference(title='Direct Submission', ...)]\n",
      "/comment=REVIEWED REFSEQ: This record has been curated by NCBI staff. The\n",
      "reference sequence was derived from AM711897.\n",
      "COMPLETENESS: full length.\n",
      "Seq('GTTAATGTAGCTTAATAAATAAAGCAAGGCACTGAAAATGCCTAGATGAGTTAC...TCT')\n",
      "\n",
      "\n",
      "# # # RECORD 1 # # #\n",
      "ID: AM711897.1\n",
      "Name: AM711897\n",
      "Description: Ailurus fulgens complete mitochondrial genome\n",
      "Number of features: 77\n",
      "/molecule_type=DNA\n",
      "/topology=circular\n",
      "/data_file_division=MAM\n",
      "/date=26-JUL-2016\n",
      "/accessions=['AM711897']\n",
      "/sequence_version=1\n",
      "/keywords=['12S ribosomal RNA', '12S rRNA gene', '16S ribosomal RNA', '16S rRNA gene', 'ATPase subunit 6', 'ATPase subunit 8', 'ATPase6 gene', 'ATPase8 gene', 'COI gene', 'COII gene', 'COIII gene', 'cytb gene', 'cytochrome b', 'cytochrome oxidase subunit I', 'cytochrome oxidase subunit II', 'cytochrome oxidase subunit III', 'NADH dehydrogenase subunit 1', 'NADH dehydrogenase subunit 2', 'NADH dehydrogenase subunit 3', 'NADH dehydrogenase subunit 4', 'NADH dehydrogenase subunit 4L', 'NADH dehydrogenase subunit 5', 'NADH dehydrogenase subunit 6', 'NADH1 gene', 'NADH2 gene', 'NADH3 gene', 'NADH4 gene', 'NADH4L gene', 'NADH5 gene', 'NADH6 gene', 'transfer RNA-Ala', 'transfer RNA-Arg', 'transfer RNA-Asn', 'transfer RNA-Asp', 'transfer RNA-Cys', 'transfer RNA-Gln', 'transfer RNA-Glu', 'transfer RNA-Gly', 'transfer RNA-His', 'transfer RNA-Ile', 'transfer RNA-Leu (CUN)', 'transfer RNA-Leu (UUR)', 'transfer RNA-Lys', 'transfer RNA-Met', 'transfer RNA-Phe', 'transfer RNA-Pro', 'transfer RNA-Ser (AGY)', 'transfer RNA-Ser (UCN)', 'transfer RNA-Thr', 'transfer RNA-Trp', 'transfer RNA-Tyr', 'transfer RNA-Val', 'tRNA-Ala gene', 'tRNA-Arg gene', 'tRNA-Asn gene', 'tRNA-Asp gene', 'tRNA-Cys gene', 'tRNA-Gln gene', 'tRNA-Glu gene', 'tRNA-Gly gene', 'tRNA-His gene', 'tRNA-Ile gene', 'tRNA-Leu (CUN) gene', 'tRNA-Leu (UUR) gene', 'tRNA-Lys gene', 'tRNA-Met gene', 'tRNA-Phe gene', 'tRNA-Pro gene', 'tRNA-Ser (AGY) gene', 'tRNA-Ser (UCN) gene', 'tRNA-Thr gene', 'tRNA-Trp gene', 'tRNA-Tyr gene', 'tRNA-Val gene']\n",
      "/source=mitochondrion Ailurus fulgens (lesser panda)\n",
      "/organism=Ailurus fulgens\n",
      "/taxonomy=['Eukaryota', 'Metazoa', 'Chordata', 'Craniata', 'Vertebrata', 'Euteleostomi', 'Mammalia', 'Eutheria', 'Laurasiatheria', 'Carnivora', 'Caniformia', 'Ailuridae', 'Ailurus']\n",
      "/references=[Reference(title='Mitogenomic analyses of caniform relationships', ...), Reference(title='Direct Submission', ...)]\n",
      "Seq('GTTAATGTAGCTTAATAAATAAAGCAAGGCACTGAAAATGCCTAGATGAGTTAC...TCT')\n",
      "\n",
      "\n",
      "# # # RECORD 2 # # #\n",
      "ID: Y08511.1\n",
      "Name: Y08511\n",
      "Description: A.fulgens mitochondrial 12S rRNA gene\n",
      "Number of features: 3\n",
      "/molecule_type=DNA\n",
      "/topology=linear\n",
      "/data_file_division=MAM\n",
      "/date=05-MAR-1997\n",
      "/accessions=['Y08511']\n",
      "/sequence_version=1\n",
      "/keywords=['12S ribosomal RNA', '12S rRNA gene']\n",
      "/source=mitochondrion Ailurus fulgens (lesser panda)\n",
      "/organism=Ailurus fulgens\n",
      "/taxonomy=['Eukaryota', 'Metazoa', 'Chordata', 'Craniata', 'Vertebrata', 'Euteleostomi', 'Mammalia', 'Eutheria', 'Laurasiatheria', 'Carnivora', 'Caniformia', 'Ailuridae', 'Ailurus']\n",
      "/references=[Reference(title='Phylogenetic relationships within caniform carnivores based on analyses of the mitochondrial 12S rRNA gene', ...), Reference(title='Direct Submission', ...)]\n",
      "Seq('CAAAGGTTTGGTCCTAGCCTTCCCGTTAGTTCTTAATAAAATTACACATGCAAG...AAC')\n",
      "\n",
      "\n",
      "# # # RECORD 3 # # #\n",
      "ID: L21885.1\n",
      "Name: AISMTRG12S\n",
      "Description: Ailurus fulgens mitochondrial 12S ribosomal RNA (12S rRNA) gene fragment\n",
      "Number of features: 3\n",
      "/molecule_type=DNA\n",
      "/topology=linear\n",
      "/data_file_division=MAM\n",
      "/date=18-NOV-1993\n",
      "/accessions=['L21885']\n",
      "/sequence_version=1\n",
      "/keywords=['12S ribosomal RNA']\n",
      "/source=mitochondrion Ailurus fulgens (lesser panda)\n",
      "/organism=Ailurus fulgens\n",
      "/taxonomy=['Eukaryota', 'Metazoa', 'Chordata', 'Craniata', 'Vertebrata', 'Euteleostomi', 'Mammalia', 'Eutheria', 'Laurasiatheria', 'Carnivora', 'Caniformia', 'Ailuridae', 'Ailurus']\n",
      "/references=[Reference(title='Mitochondrial DNA sequence evolution in the Arctoidea', ...)]\n",
      "/comment=Original source text: Mitochondrion Ailurus fulgens (organelle\n",
      "Mitochondrion Ailurus fulgens) DNA.\n",
      "Seq('AAATAGTTTAGTATAACAAAACTATTCGCCAGAGAACTACTAGCAATAGCCTAA...GAG')\n"
     ]
    }
   ],
   "source": [
    "for i, rec in enumerate(gene_recs):\n",
    "  print(f\"\\n\\n# # # RECORD {i} # # #\")\n",
    "  print(rec)"
   ]
  },
  {
   "cell_type": "markdown",
   "metadata": {},
   "source": [
    "---\n",
    "Go ahead and re-run that last `for` loop. You'll see that this time the data is still there.\n",
    "\n",
    "⚠️ **Warning** ⚠️ This code above seems great, but it can be a very bad idea if you have a lot of data. `list`s are a lot less efficient than `iterator`s, because the entire dataset needs to be loaded into memory with a list, as opposed to one item at a time with an iterator.\n",
    "\n",
    "Here we have just `4` items, so that's not a problem, but if you have a lot of data, you'll want to keep it as an iterator, even if that means you can only look at it once. Just do look at it only once, do what you need to do with/to it, and move on to the next item. That's the properly _pythonic_ thing to do, more so with huge bioinformatics data.\n",
    "\n",
    "The advantage of a list is of course that we can reuse the data as many times as we wish without having to go back to NCBI. Here, since we're just learning, and since it's only 4 items, turning an iterator to a `list` is acceptable. You'll find yourself turning iterators to lists many times, particularly with light data, and also with portions of your data as you're developing your code (since you need to explore the data and typically don't know what you'll find upon the first read).\n",
    "\n",
    "But there's an even better way that lets us keep the data permanently: exporting it to a file. We explore that next."
   ]
  },
  {
   "cell_type": "markdown",
   "metadata": {},
   "source": [
    "## Saving sequence records to files with `Bio.SeqIO.write()`\n",
    "If you wish to keep data such as a sequence record permanently, you can export it to a file, in some desired format. You can then load this data back in as needed. Here we will export our records to GenBank format.\n",
    "\n",
    "First, let's use the shell to create a folder to hold the `GenBank` files:"
   ]
  },
  {
   "cell_type": "code",
   "execution_count": 19,
   "metadata": {},
   "outputs": [
    {
     "name": "stdout",
     "output_type": "stream",
     "text": [
      "mkdir: GenBank: File exists\r\n"
     ]
    }
   ],
   "source": [
    "gb_dir = 'GenBank' # We define a variable so that we can reuse it later in this script\n",
    "! mkdir $gb_dir"
   ]
  },
  {
   "cell_type": "markdown",
   "metadata": {},
   "source": [
    "(In my case, I already had that directory, so bash gives me a minor complaint)"
   ]
  },
  {
   "cell_type": "markdown",
   "metadata": {},
   "source": [
    "We still have the records in the `gene_recs` list, so we could export them easily from there. However, in a real analysis, the optimal way to do this would be to create the files directly as you read them from the NCBI record. So, with apologies to NCBI and its worldwide users, we will go back there a third time."
   ]
  },
  {
   "cell_type": "code",
   "execution_count": 20,
   "metadata": {},
   "outputs": [
    {
     "name": "stdout",
     "output_type": "stream",
     "text": [
      "<Bio.SeqIO.InsdcIO.GenBankIterator object at 0x19ba4a6a0>\n"
     ]
    }
   ],
   "source": [
    "gene_handle = Entrez.efetch(db='nucleotide', id=ref_recs['IdList'], rettype='gb')\n",
    "gene_recs = SeqIO.parse(gene_handle, 'gb')\n",
    "print(gene_recs)"
   ]
  },
  {
   "cell_type": "markdown",
   "metadata": {},
   "source": [
    "We have our iterator again. But this time we will neither waste it by printing, nor turn it inefficiently into a list. Instead, we will do the proper thing and save each of the records to its own file.\n",
    "\n",
    "Importantly, we would benefit from some automated way to access these files later, so let's store them into a list for now."
   ]
  },
  {
   "cell_type": "code",
   "execution_count": 21,
   "metadata": {},
   "outputs": [
    {
     "name": "stdout",
     "output_type": "stream",
     "text": [
      "Saving record\tNC_011124.1\tto file\tGenBank/NC_011124.1.gb\n",
      "Saving record\tAM711897.1\tto file\tGenBank/AM711897.1.gb\n",
      "Saving record\tY08511.1\tto file\tGenBank/Y08511.1.gb\n",
      "Saving record\tL21885.1\tto file\tGenBank/L21885.1.gb\n"
     ]
    }
   ],
   "source": [
    "gb_file_names = [] # An empty list that will hold the file names\n",
    "\n",
    "for rec in gene_recs:\n",
    "  # Define a file name using the directory we just created, and the record's own ID:\n",
    "  file_name = f'{gb_dir}/{rec.id}.gb'\n",
    "  # Save the file using that file name\n",
    "  SeqIO.write(rec, file_name, format='gb')\n",
    "\n",
    "  # We also want the list of files, so let's store them:\n",
    "  gb_file_names.append(file_name)\n",
    "\n",
    "  # And print some useful information to screen, just so that we know what's going on:\n",
    "  print(f\"Saving record\\t{rec.id}\\tto file\\t{file_name}\")"
   ]
  },
  {
   "cell_type": "markdown",
   "metadata": {},
   "source": [
    "Here, we exported each of the records verbatim to a file, and we used the corresponding record's ID (`rec.id`) to name its file.\n",
    "\n",
    "(Note that the record IDs don't match the gene IDs that we had from before. NCBI uses multiple identifiers for sequences. Right now it doesn't matter much to us, but for real bioinformatics work, you'll need to be very careful with which identifier you are using)\n",
    "\n",
    "Let's take a quick look at one of those files:"
   ]
  },
  {
   "cell_type": "code",
   "execution_count": 22,
   "metadata": {},
   "outputs": [
    {
     "name": "stdout",
     "output_type": "stream",
     "text": [
      "LOCUS       AISMTRG12S               349 bp    DNA     linear   MAM 18-NOV-1993\r\n",
      "DEFINITION  Ailurus fulgens mitochondrial 12S ribosomal RNA (12S rRNA) gene\r\n",
      "            fragment.\r\n",
      "ACCESSION   L21885\r\n",
      "VERSION     L21885.1\r\n",
      "KEYWORDS    12S ribosomal RNA.\r\n",
      "SOURCE      mitochondrion Ailurus fulgens (lesser panda)\r\n",
      "  ORGANISM  Ailurus fulgens\r\n",
      "            Eukaryota; Metazoa; Chordata; Craniata; Vertebrata; Euteleostomi;\r\n",
      "            Mammalia; Eutheria; Laurasiatheria; Carnivora; Caniformia;\r\n"
     ]
    }
   ],
   "source": [
    "! head GenBank/L21885.1.gb"
   ]
  },
  {
   "cell_type": "markdown",
   "metadata": {},
   "source": [
    "Perfect! I suggest you also open this GenBank file externally to explore it properly (for example, you could use the JupyterLab browser)."
   ]
  },
  {
   "cell_type": "markdown",
   "metadata": {},
   "source": [
    "#### Create an index file with the name and location of each of the GenBank, to be accessed later\n",
    "We will create a file containing the list of names of all the GenBank files that we created above, so that we can find them easily in our later analyses:"
   ]
  },
  {
   "cell_type": "code",
   "execution_count": 23,
   "metadata": {},
   "outputs": [],
   "source": [
    "gb_file_list = 'gb_files.list'\n",
    "\n",
    "with open(gb_file_list, 'w') as f:\n",
    "  for file_name in gb_file_names:\n",
    "    f.write(f\"{file_name}\\n\")"
   ]
  },
  {
   "cell_type": "markdown",
   "metadata": {},
   "source": [
    "Let's take a look:"
   ]
  },
  {
   "cell_type": "code",
   "execution_count": 24,
   "metadata": {
    "scrolled": true
   },
   "outputs": [
    {
     "name": "stdout",
     "output_type": "stream",
     "text": [
      "GenBank/NC_011124.1.gb\r\n",
      "GenBank/AM711897.1.gb\r\n",
      "GenBank/Y08511.1.gb\r\n",
      "GenBank/L21885.1.gb\r\n"
     ]
    }
   ],
   "source": [
    "! cat $gb_file_list"
   ]
  },
  {
   "cell_type": "markdown",
   "metadata": {},
   "source": [
    "We will use this list of files in the following lesson, when we will be looking into reading into those files to find the actual DNA sequences of the 12S rRNA gene."
   ]
  },
  {
   "cell_type": "markdown",
   "metadata": {},
   "source": [
    "## Accessing the NCBI Taxonomy database\n",
    "Let's download the taxonomic information for the red panda."
   ]
  },
  {
   "cell_type": "markdown",
   "metadata": {},
   "source": [
    "### _Searching_ broadly using `Entrez.esearch()`\n",
    "If all you have is the name of a species, this can be very ambiguous. For example, if you just look for \"fox\", how could NCBI know which fox you mean? But the red panda is unique (and so very pretty), so it should give a good result using **`Entrez.esearch()`**:"
   ]
  },
  {
   "cell_type": "code",
   "execution_count": 25,
   "metadata": {},
   "outputs": [],
   "source": [
    "tax_handle = Entrez.esearch(db='taxonomy', term='red panda')\n",
    "tax_records = Entrez.read(tax_handle)\n",
    "tax_handle.close()"
   ]
  },
  {
   "cell_type": "markdown",
   "metadata": {},
   "source": [
    "We have stored the results into a dictionary called `tax_records`. Let's print all of its keys and corresponding values:"
   ]
  },
  {
   "cell_type": "code",
   "execution_count": 26,
   "metadata": {},
   "outputs": [
    {
     "name": "stdout",
     "output_type": "stream",
     "text": [
      "Count 1\n",
      "RetMax 1\n",
      "RetStart 0\n",
      "IdList ['9649']\n",
      "TranslationSet []\n",
      "TranslationStack [{'Term': 'red panda[All Names]', 'Field': 'All Names', 'Count': '1', 'Explode': 'N'}, 'GROUP']\n",
      "QueryTranslation red panda[All Names]\n"
     ]
    }
   ],
   "source": [
    "for key, val in tax_records.items():\n",
    "  print(key, val)"
   ]
  },
  {
   "cell_type": "markdown",
   "metadata": {},
   "source": [
    "Nice, we found a single result, and we now have its id in the `IdList`. We can use that id to download the full taxonomic record of the red panda (assuming that the number `9649` is a correct result)."
   ]
  },
  {
   "cell_type": "markdown",
   "metadata": {},
   "source": [
    "### _Fetching_ specific taxonomic records using IDs in `Entrez.efetch()`\n",
    "Now that we have the ID of the red panda, we can use it to download the full desired record.\n",
    "\n",
    "This time, since we know exactly what we're looking for, we use `efetch`, instead of `esearch` which we used above when we were looking more broadly.\n",
    "\n",
    "Let's also add the ID of the giant panda, which I know to be `9646`."
   ]
  },
  {
   "cell_type": "code",
   "execution_count": 27,
   "metadata": {},
   "outputs": [],
   "source": [
    "tax_handle = Entrez.efetch(db='taxonomy', id=[9649, 9646])\n",
    "tax_records = Entrez.read(tax_handle)\n",
    "tax_records = list(tax_records) # Uncomment this to turn the iterator to a list"
   ]
  },
  {
   "cell_type": "markdown",
   "metadata": {},
   "source": [
    "\n",
    "(remember that `Entrez` typically returns iterators, which you can only loop over once. Turn to list while you develop your code so that you don't have to go back to NCBI again and again, then remove the conversion — line 3 above – to leave as iterator in your final code)"
   ]
  },
  {
   "cell_type": "code",
   "execution_count": 28,
   "metadata": {},
   "outputs": [
    {
     "name": "stdout",
     "output_type": "stream",
     "text": [
      "TaxId\t:\t9649\n",
      "ScientificName\t:\tAilurus fulgens\n",
      "OtherNames\t:\t{'Anamorph': [], 'Includes': [], 'EquivalentName': [], 'GenbankAnamorph': [], 'CommonName': ['red panda'], 'GenbankSynonym': [], 'Name': [{'ClassCDE': 'authority', 'DispName': 'Ailurus fulgens Cuvier, 1825'}], 'Misnomer': [], 'Misspelling': [], 'Synonym': [], 'Teleomorph': [], 'Acronym': [], 'Inpart': [], 'GenbankCommonName': 'lesser panda'}\n",
      "ParentTaxId\t:\t9648\n",
      "Rank\t:\tspecies\n",
      "Division\t:\tMammals\n",
      "GeneticCode\t:\t{'GCId': '1', 'GCName': 'Standard'}\n",
      "MitoGeneticCode\t:\t{'MGCId': '2', 'MGCName': 'Vertebrate Mitochondrial'}\n",
      "Lineage\t:\tcellular organisms; Eukaryota; Opisthokonta; Metazoa; Eumetazoa; Bilateria; Deuterostomia; Chordata; Craniata; Vertebrata; Gnathostomata; Teleostomi; Euteleostomi; Sarcopterygii; Dipnotetrapodomorpha; Tetrapoda; Amniota; Mammalia; Theria; Eutheria; Boreoeutheria; Laurasiatheria; Carnivora; Caniformia; Ailuridae; Ailurus\n",
      "LineageEx\t:\t[{'TaxId': '131567', 'ScientificName': 'cellular organisms', 'Rank': 'no rank'}, {'TaxId': '2759', 'ScientificName': 'Eukaryota', 'Rank': 'superkingdom'}, {'TaxId': '33154', 'ScientificName': 'Opisthokonta', 'Rank': 'clade'}, {'TaxId': '33208', 'ScientificName': 'Metazoa', 'Rank': 'kingdom'}, {'TaxId': '6072', 'ScientificName': 'Eumetazoa', 'Rank': 'clade'}, {'TaxId': '33213', 'ScientificName': 'Bilateria', 'Rank': 'clade'}, {'TaxId': '33511', 'ScientificName': 'Deuterostomia', 'Rank': 'clade'}, {'TaxId': '7711', 'ScientificName': 'Chordata', 'Rank': 'phylum'}, {'TaxId': '89593', 'ScientificName': 'Craniata', 'Rank': 'subphylum'}, {'TaxId': '7742', 'ScientificName': 'Vertebrata', 'Rank': 'clade'}, {'TaxId': '7776', 'ScientificName': 'Gnathostomata', 'Rank': 'clade'}, {'TaxId': '117570', 'ScientificName': 'Teleostomi', 'Rank': 'clade'}, {'TaxId': '117571', 'ScientificName': 'Euteleostomi', 'Rank': 'clade'}, {'TaxId': '8287', 'ScientificName': 'Sarcopterygii', 'Rank': 'superclass'}, {'TaxId': '1338369', 'ScientificName': 'Dipnotetrapodomorpha', 'Rank': 'clade'}, {'TaxId': '32523', 'ScientificName': 'Tetrapoda', 'Rank': 'clade'}, {'TaxId': '32524', 'ScientificName': 'Amniota', 'Rank': 'clade'}, {'TaxId': '40674', 'ScientificName': 'Mammalia', 'Rank': 'class'}, {'TaxId': '32525', 'ScientificName': 'Theria', 'Rank': 'clade'}, {'TaxId': '9347', 'ScientificName': 'Eutheria', 'Rank': 'clade'}, {'TaxId': '1437010', 'ScientificName': 'Boreoeutheria', 'Rank': 'clade'}, {'TaxId': '314145', 'ScientificName': 'Laurasiatheria', 'Rank': 'superorder'}, {'TaxId': '33554', 'ScientificName': 'Carnivora', 'Rank': 'order'}, {'TaxId': '379584', 'ScientificName': 'Caniformia', 'Rank': 'suborder'}, {'TaxId': '379582', 'ScientificName': 'Ailuridae', 'Rank': 'family'}, {'TaxId': '9648', 'ScientificName': 'Ailurus', 'Rank': 'genus'}]\n",
      "CreateDate\t:\t1995/02/27 09:24:00\n",
      "UpdateDate\t:\t2020/04/28 22:00:14\n",
      "PubDate\t:\t1993/11/19 00:00:00\n",
      "\n",
      "\n",
      "TaxId\t:\t9646\n",
      "ScientificName\t:\tAiluropoda melanoleuca\n",
      "OtherNames\t:\t{'Anamorph': [], 'Includes': [], 'EquivalentName': [], 'GenbankAnamorph': [], 'CommonName': [], 'GenbankSynonym': [], 'Name': [{'ClassCDE': 'authority', 'DispName': 'Ailuropoda melanoleuca (David, 1869)'}, {'ClassCDE': 'misspelling', 'DispName': 'Ailuropoda melanoleura'}], 'Misnomer': [], 'Misspelling': [], 'Synonym': [], 'Teleomorph': [], 'Acronym': [], 'Inpart': [], 'GenbankCommonName': 'giant panda'}\n",
      "ParentTaxId\t:\t9645\n",
      "Rank\t:\tspecies\n",
      "Division\t:\tMammals\n",
      "GeneticCode\t:\t{'GCId': '1', 'GCName': 'Standard'}\n",
      "MitoGeneticCode\t:\t{'MGCId': '2', 'MGCName': 'Vertebrate Mitochondrial'}\n",
      "Lineage\t:\tcellular organisms; Eukaryota; Opisthokonta; Metazoa; Eumetazoa; Bilateria; Deuterostomia; Chordata; Craniata; Vertebrata; Gnathostomata; Teleostomi; Euteleostomi; Sarcopterygii; Dipnotetrapodomorpha; Tetrapoda; Amniota; Mammalia; Theria; Eutheria; Boreoeutheria; Laurasiatheria; Carnivora; Caniformia; Ursidae; Ailuropoda\n",
      "LineageEx\t:\t[{'TaxId': '131567', 'ScientificName': 'cellular organisms', 'Rank': 'no rank'}, {'TaxId': '2759', 'ScientificName': 'Eukaryota', 'Rank': 'superkingdom'}, {'TaxId': '33154', 'ScientificName': 'Opisthokonta', 'Rank': 'clade'}, {'TaxId': '33208', 'ScientificName': 'Metazoa', 'Rank': 'kingdom'}, {'TaxId': '6072', 'ScientificName': 'Eumetazoa', 'Rank': 'clade'}, {'TaxId': '33213', 'ScientificName': 'Bilateria', 'Rank': 'clade'}, {'TaxId': '33511', 'ScientificName': 'Deuterostomia', 'Rank': 'clade'}, {'TaxId': '7711', 'ScientificName': 'Chordata', 'Rank': 'phylum'}, {'TaxId': '89593', 'ScientificName': 'Craniata', 'Rank': 'subphylum'}, {'TaxId': '7742', 'ScientificName': 'Vertebrata', 'Rank': 'clade'}, {'TaxId': '7776', 'ScientificName': 'Gnathostomata', 'Rank': 'clade'}, {'TaxId': '117570', 'ScientificName': 'Teleostomi', 'Rank': 'clade'}, {'TaxId': '117571', 'ScientificName': 'Euteleostomi', 'Rank': 'clade'}, {'TaxId': '8287', 'ScientificName': 'Sarcopterygii', 'Rank': 'superclass'}, {'TaxId': '1338369', 'ScientificName': 'Dipnotetrapodomorpha', 'Rank': 'clade'}, {'TaxId': '32523', 'ScientificName': 'Tetrapoda', 'Rank': 'clade'}, {'TaxId': '32524', 'ScientificName': 'Amniota', 'Rank': 'clade'}, {'TaxId': '40674', 'ScientificName': 'Mammalia', 'Rank': 'class'}, {'TaxId': '32525', 'ScientificName': 'Theria', 'Rank': 'clade'}, {'TaxId': '9347', 'ScientificName': 'Eutheria', 'Rank': 'clade'}, {'TaxId': '1437010', 'ScientificName': 'Boreoeutheria', 'Rank': 'clade'}, {'TaxId': '314145', 'ScientificName': 'Laurasiatheria', 'Rank': 'superorder'}, {'TaxId': '33554', 'ScientificName': 'Carnivora', 'Rank': 'order'}, {'TaxId': '379584', 'ScientificName': 'Caniformia', 'Rank': 'suborder'}, {'TaxId': '9632', 'ScientificName': 'Ursidae', 'Rank': 'family'}, {'TaxId': '9645', 'ScientificName': 'Ailuropoda', 'Rank': 'genus'}]\n",
      "CreateDate\t:\t1995/02/27 09:24:00\n",
      "UpdateDate\t:\t2018/11/23 13:57:52\n",
      "PubDate\t:\t1993/11/19 00:00:00\n",
      "\n",
      "\n"
     ]
    }
   ],
   "source": [
    "for tax_rec in tax_records:\n",
    "  for key, val in tax_rec.items():\n",
    "    print(key, val, sep='\\t:\\t')\n",
    "  print('\\n')"
   ]
  },
  {
   "cell_type": "markdown",
   "metadata": {},
   "source": [
    "Nice! There's a lot of very useful information there. We could for example extract the `Lineage` for each of these organisms very easily, and store it in a file that we can use later."
   ]
  },
  {
   "cell_type": "markdown",
   "metadata": {},
   "source": [
    "#### Homework\n",
    "There is a rumour that red pandas are not related to giant pandas – that giant pandas belong to the larger bear family whereas red pandas are in their own group near the raccoons and other musteloids. Print out the `'family'` of the two animals to see what we get.\n",
    "\n",
    "**Advanced real-world kind of homework:** Create a tab-separated file named `panda_taxonomies.tsv` that contains the following columns:\n",
    "1. The TaxId.\n",
    "1. The `CommonName`, if present, otherwise the GenbankCommonName.\n",
    "1. The `Lineage`.\n",
    "1. The following ranks of the `LineageEx`, if present, otherwise empty, each in its own column:\n",
    "   1. `kingdom`.\n",
    "   1. `phylum`.\n",
    "   1. `order`.\n",
    "   1. `family`.\n",
    "   1. `genus`."
   ]
  }
 ],
 "metadata": {
  "kernelspec": {
   "display_name": "Python 3 (ipykernel)",
   "language": "python",
   "name": "python3"
  },
  "language_info": {
   "codemirror_mode": {
    "name": "ipython",
    "version": 3
   },
   "file_extension": ".py",
   "mimetype": "text/x-python",
   "name": "python",
   "nbconvert_exporter": "python",
   "pygments_lexer": "ipython3",
   "version": "3.9.6"
  }
 },
 "nbformat": 4,
 "nbformat_minor": 4
}
